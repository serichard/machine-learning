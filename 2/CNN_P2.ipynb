{
 "cells": [
  {
   "cell_type": "markdown",
   "metadata": {
    "id": "DSPCom-KmApV"
   },
   "source": [
    "# CNN for MNIST using Keras"
   ]
  },
  {
   "cell_type": "markdown",
   "metadata": {
    "id": "qLGkt5qiyz4E"
   },
   "source": [
    "This program demonstrates training a simple [Convolutional Neural Network](https://developers.google.com/machine-learning/glossary/#convolutional_neural_network) (CNN) to classify MNIST dataset. This program is created by modifying the CNN tutorial (https://www.tensorflow.org/tutorials/images/cnn)."
   ]
  },
  {
   "cell_type": "markdown",
   "metadata": {
    "id": "m7KBpffWzlxH"
   },
   "source": [
    "### Import TensorFlow"
   ]
  },
  {
   "cell_type": "code",
   "execution_count": 1,
   "metadata": {
    "execution": {
     "iopub.execute_input": "2021-01-06T02:26:25.508587Z",
     "iopub.status.busy": "2021-01-06T02:26:25.507936Z",
     "iopub.status.idle": "2021-01-06T02:26:32.576008Z",
     "shell.execute_reply": "2021-01-06T02:26:32.576483Z"
    },
    "id": "iAve6DCL4JH4"
   },
   "outputs": [],
   "source": [
    "# import tensorflow and tf.keras\n",
    "import tensorflow as tf\n",
    "from tensorflow import keras\n",
    "from tensorflow.keras import datasets, layers, models\n",
    "import matplotlib.pyplot as plt"
   ]
  },
  {
   "cell_type": "markdown",
   "metadata": {
    "id": "jRFxccghyMVo"
   },
   "source": [
    "### Download and prepare the MNIST dataset\n",
    "\n",
    "MNIST (Modified National Institute of Standards and Technology database) is a dataset of labeled images of handwritten digits from 0 through 9. The dataset has a training set of 60,000 examples and a test set of 10,000 examples. Each example is a 28x28 grayscale image, associated with a label from 10 classes."
   ]
  },
  {
   "cell_type": "code",
   "execution_count": 2,
   "metadata": {
    "colab": {
     "base_uri": "https://localhost:8080/"
    },
    "execution": {
     "iopub.execute_input": "2021-01-06T02:26:32.583079Z",
     "iopub.status.busy": "2021-01-06T02:26:32.582385Z",
     "iopub.status.idle": "2021-01-06T02:26:46.965320Z",
     "shell.execute_reply": "2021-01-06T02:26:46.964658Z"
    },
    "id": "JWoEqyMuXFF4",
    "outputId": "4487b91c-7818-4434-e1c1-4b202b81eb1c"
   },
   "outputs": [
    {
     "name": "stdout",
     "output_type": "stream",
     "text": [
      "Downloading data from https://storage.googleapis.com/tensorflow/tf-keras-datasets/mnist.npz\n",
      "11493376/11490434 [==============================] - 0s 0us/step\n",
      "(60000, 28, 28, 1) (10000, 28, 28, 1)\n"
     ]
    }
   ],
   "source": [
    "# load fashion_mnist dataset\n",
    "(train_images, train_labels), (test_images, test_labels) = datasets.fashion_mnist.load_data()\n",
    "\n",
    "train_images = train_images.reshape((60000, 28, 28, 1))\n",
    "test_images = test_images.reshape((10000, 28, 28, 1))\n",
    "\n",
    "# normalizes pixel values between 0 and 1\n",
    "train_images, test_images = train_images / 255.0, test_images / 255.0\n",
    "# check shapes of images and labels of train and test data\n",
    "print(train_images.shape, test_images.shape)  \n",
    "\n",
    "# Normalize pixel values to be between 0 and 1\n",
    "train_images, test_images = train_images / 255.0, test_images / 255.0"
   ]
  },
  {
   "cell_type": "markdown",
   "metadata": {
    "id": "7wArwCTJJlUa"
   },
   "source": [
    "### Verify the data\n",
    "\n",
    "To verify that the dataset looks correct, let's plot the first 16 images from the training set and display the class name below each image.\n"
   ]
  },
  {
   "cell_type": "code",
   "execution_count": 3,
   "metadata": {
    "colab": {
     "base_uri": "https://localhost:8080/",
     "height": 589
    },
    "execution": {
     "iopub.execute_input": "2021-01-06T02:26:46.990084Z",
     "iopub.status.busy": "2021-01-06T02:26:46.988560Z",
     "iopub.status.idle": "2021-01-06T02:26:48.222390Z",
     "shell.execute_reply": "2021-01-06T02:26:48.222901Z"
    },
    "id": "K3PAELE2eSU9",
    "outputId": "ce5fb11a-e34a-485e-b1da-40b4c4080ac3"
   },
   "outputs": [
    {
     "data": {
      "image/png": "[encoded data removed]",
      "text/plain": [
       "<Figure size 720x720 with 16 Axes>"
      ]
     },
     "metadata": {
      "tags": []
     },
     "output_type": "display_data"
    }
   ],
   "source": [
    "# define class names\n",
    "class_names = ['0', '1', '2', '3', '4',\n",
    "               '5', '6', '7', '8', '9']\n",
    "\n",
    "plt.figure(figsize=(10, 10))\n",
    "for i in range(16):\n",
    "     plt.subplot(4, 4, i+1)\n",
    "     #plt.imshow(train_images[i].reshape(28, 28), cmap='gray')\n",
    "     plt.xticks([])\n",
    "     plt.yticks([])\n",
    "     plt.grid(False)\n",
    "     plt.imshow(train_images[i].reshape(28, 28), cmap='gray')\n",
    "     #plt.imshow(train_images[i], cmap=plt.cm.binary)\n",
    "     plt.xlabel(class_names[train_labels[i]])\n",
    "plt.show()"
   ]
  },
  {
   "cell_type": "markdown",
   "metadata": {
    "id": "Oewp-wYg31t9"
   },
   "source": [
    "### Create the convolutional base"
   ]
  },
  {
   "cell_type": "markdown",
   "metadata": {
    "id": "3hQvqXpNyN3x"
   },
   "source": [
    "CNN takes as input a tensor of size (image height, image width, color channel) excluding batch size. MNIST data has one color channel (because it is a black and white image), whereas a color image has three channels (R,G,B). In this example, we will define a CNN that handles inputs of size (28, 28, 1), which is the MNIST image format. Pass this value as the first layer's input_shape parameter.\n"
   ]
  },
  {
   "cell_type": "markdown",
   "metadata": {
    "id": "ZiZk63xYEd97"
   },
   "source": []
  },
  {
   "cell_type": "code",
   "execution_count": 4,
   "metadata": {
    "execution": {
     "iopub.execute_input": "2021-01-06T02:26:48.234302Z",
     "iopub.status.busy": "2021-01-06T02:26:48.229148Z",
     "iopub.status.idle": "2021-01-06T02:26:57.095770Z",
     "shell.execute_reply": "2021-01-06T02:26:57.095008Z"
    },
    "id": "L9YmGQBQPrdn"
   },
   "outputs": [],
   "source": [
    "model = models.Sequential()\n",
    "model.add(layers.Conv2D(32, (3, 3), activation='relu', input_shape=(28, 28, 1)))\n",
    "model.add(layers.MaxPooling2D((2, 2)))\n",
    "model.add(layers.Conv2D(64, (3, 3), activation='relu'))\n",
    "model.add(layers.MaxPooling2D((2, 2)))\n",
    "model.add(layers.Conv2D(64, (3, 3), activation='relu'))"
   ]
  },
  {
   "cell_type": "markdown",
   "metadata": {
    "id": "lvDVFkg-2DPm"
   },
   "source": [
    "Let's display the architecture of our model so far."
   ]
  },
  {
   "cell_type": "code",
   "execution_count": 5,
   "metadata": {
    "colab": {
     "base_uri": "https://localhost:8080/"
    },
    "execution": {
     "iopub.execute_input": "2021-01-06T02:26:57.104997Z",
     "iopub.status.busy": "2021-01-06T02:26:57.104279Z",
     "iopub.status.idle": "2021-01-06T02:26:57.108316Z",
     "shell.execute_reply": "2021-01-06T02:26:57.107725Z"
    },
    "id": "8-C4XBg4UTJy",
    "outputId": "3c3f7e70-2a1e-4d60-b447-3f1fbafd546b"
   },
   "outputs": [
    {
     "name": "stdout",
     "output_type": "stream",
     "text": [
      "Model: \"sequential\"\n",
      "_________________________________________________________________\n",
      "Layer (type)                 Output Shape              Param #   \n",
      "=================================================================\n",
      "conv2d (Conv2D)              (None, 26, 26, 32)        320       \n",
      "_________________________________________________________________\n",
      "max_pooling2d (MaxPooling2D) (None, 13, 13, 32)        0         \n",
      "_________________________________________________________________\n",
      "conv2d_1 (Conv2D)            (None, 11, 11, 64)        18496     \n",
      "_________________________________________________________________\n",
      "max_pooling2d_1 (MaxPooling2 (None, 5, 5, 64)          0         \n",
      "_________________________________________________________________\n",
      "conv2d_2 (Conv2D)            (None, 3, 3, 64)          36928     \n",
      "=================================================================\n",
      "Total params: 55,744\n",
      "Trainable params: 55,744\n",
      "Non-trainable params: 0\n",
      "_________________________________________________________________\n"
     ]
    }
   ],
   "source": [
    "model.summary()"
   ]
  },
  {
   "cell_type": "markdown",
   "metadata": {
    "id": "_j-AXYeZ2GO5"
   },
   "source": [
    "Above, you can see that the output of every Conv2D and MaxPooling2D layer is a 3D tensor of shape (height, width, channels). The width and height dimensions tend to shrink as you go deeper in the network. The number of output channels for each Conv2D layer is controlled by the first argument (e.g., 32 or 64). Typically,  as the width and height shrink, you can afford (computationally) to add more output channels in each Conv2D layer."
   ]
  },
  {
   "cell_type": "markdown",
   "metadata": {
    "id": "_v8sVOtG37bT"
   },
   "source": [
    "### Add Dense layers on top\n",
    "To complete the model, you will feed the last output tensor from the convolutional base (of shape (3, 3, 64)) into one or more Dense layers to perform classification. Dense layers take vectors as input (which are 1D), while the current output is a 3D tensor. First, you will flatten (or unroll) the 3D output to 1D,  then add one or more Dense layers on top. MNIST has 10 output classes, so you use a final Dense layer with 10 outputs."
   ]
  },
  {
   "cell_type": "code",
   "execution_count": 6,
   "metadata": {
    "execution": {
     "iopub.execute_input": "2021-01-06T02:26:57.114134Z",
     "iopub.status.busy": "2021-01-06T02:26:57.113502Z",
     "iopub.status.idle": "2021-01-06T02:26:57.135117Z",
     "shell.execute_reply": "2021-01-06T02:26:57.134503Z"
    },
    "id": "mRs95d6LUVEi"
   },
   "outputs": [],
   "source": [
    "model.add(layers.Flatten())\n",
    "model.add(layers.Dense(64, activation='relu'))\n",
    "model.add(layers.Dense(10, activation='softmax'))"
   ]
  },
  {
   "cell_type": "markdown",
   "metadata": {
    "id": "ipGiQMcR4Gtq"
   },
   "source": [
    "Here's the complete architecture of our model."
   ]
  },
  {
   "cell_type": "code",
   "execution_count": null,
   "metadata": {
    "colab": {
     "base_uri": "https://localhost:8080/"
    },
    "execution": {
     "iopub.execute_input": "2021-01-06T02:26:57.140471Z",
     "iopub.status.busy": "2021-01-06T02:26:57.139803Z",
     "iopub.status.idle": "2021-01-06T02:26:57.145180Z",
     "shell.execute_reply": "2021-01-06T02:26:57.144569Z"
    },
    "id": "8Yu_m-TZUWGX",
    "outputId": "5043bc5d-a14a-4415-e430-42be70d15e25"
   },
   "outputs": [
    {
     "name": "stdout",
     "output_type": "stream",
     "text": [
      "Model: \"sequential_2\"\n",
      "_________________________________________________________________\n",
      "Layer (type)                 Output Shape              Param #   \n",
      "=================================================================\n",
      "conv2d_6 (Conv2D)            (None, 26, 26, 32)        320       \n",
      "_________________________________________________________________\n",
      "max_pooling2d_4 (MaxPooling2 (None, 13, 13, 32)        0         \n",
      "_________________________________________________________________\n",
      "conv2d_7 (Conv2D)            (None, 11, 11, 64)        18496     \n",
      "_________________________________________________________________\n",
      "max_pooling2d_5 (MaxPooling2 (None, 5, 5, 64)          0         \n",
      "_________________________________________________________________\n",
      "conv2d_8 (Conv2D)            (None, 3, 3, 64)          36928     \n",
      "_________________________________________________________________\n",
      "flatten_2 (Flatten)          (None, 576)               0         \n",
      "_________________________________________________________________\n",
      "dense_4 (Dense)              (None, 64)                36928     \n",
      "_________________________________________________________________\n",
      "dense_5 (Dense)              (None, 10)                650       \n",
      "=================================================================\n",
      "Total params: 93,322\n",
      "Trainable params: 93,322\n",
      "Non-trainable params: 0\n",
      "_________________________________________________________________\n"
     ]
    }
   ],
   "source": [
    "model.summary()"
   ]
  },
  {
   "cell_type": "markdown",
   "metadata": {
    "id": "xNKXi-Gy3RO-"
   },
   "source": [
    "As you can see, our (3, 3, 64) outputs were flattened into vectors of shape (576) before going through two Dense layers."
   ]
  },
  {
   "cell_type": "markdown",
   "metadata": {
    "id": "P3odqfHP4M67"
   },
   "source": [
    "### Compile and train the model"
   ]
  },
  {
   "cell_type": "code",
   "execution_count": 10,
   "metadata": {
    "colab": {
     "base_uri": "https://localhost:8080/"
    },
    "execution": {
     "iopub.execute_input": "2021-01-06T02:26:57.160108Z",
     "iopub.status.busy": "2021-01-06T02:26:57.159440Z",
     "iopub.status.idle": "2021-01-06T02:28:10.322529Z",
     "shell.execute_reply": "2021-01-06T02:28:10.323002Z"
    },
    "id": "MdDzI75PUXrG",
    "outputId": "c46fda39-9276-4c4b-eb30-1126e196e8a0"
   },
   "outputs": [
    {
     "name": "stdout",
     "output_type": "stream",
     "text": [
      "Epoch 1/12\n",
      "1313/1313 [==============================] - 6s 4ms/step - loss: 0.0505 - accuracy: 0.9830 - val_loss: 0.0780 - val_accuracy: 0.9762\n",
      "Epoch 2/12\n",
      "1313/1313 [==============================] - 5s 4ms/step - loss: 0.0473 - accuracy: 0.9854 - val_loss: 0.0704 - val_accuracy: 0.9797\n",
      "Epoch 3/12\n",
      "1313/1313 [==============================] - 5s 4ms/step - loss: 0.0435 - accuracy: 0.9859 - val_loss: 0.0696 - val_accuracy: 0.9792\n",
      "Epoch 4/12\n",
      "1313/1313 [==============================] - 5s 4ms/step - loss: 0.0374 - accuracy: 0.9879 - val_loss: 0.0657 - val_accuracy: 0.9809\n",
      "Epoch 5/12\n",
      "1313/1313 [==============================] - 5s 4ms/step - loss: 0.0336 - accuracy: 0.9888 - val_loss: 0.0685 - val_accuracy: 0.9799\n",
      "Epoch 6/12\n",
      "1313/1313 [==============================] - 5s 4ms/step - loss: 0.0346 - accuracy: 0.9888 - val_loss: 0.0782 - val_accuracy: 0.9763\n",
      "Epoch 7/12\n",
      "1313/1313 [==============================] - 5s 4ms/step - loss: 0.0303 - accuracy: 0.9897 - val_loss: 0.0680 - val_accuracy: 0.9802\n",
      "Epoch 8/12\n",
      "1313/1313 [==============================] - 5s 4ms/step - loss: 0.0279 - accuracy: 0.9920 - val_loss: 0.0675 - val_accuracy: 0.9814\n",
      "Epoch 9/12\n",
      "1313/1313 [==============================] - 5s 4ms/step - loss: 0.0272 - accuracy: 0.9908 - val_loss: 0.0784 - val_accuracy: 0.9777\n",
      "Epoch 10/12\n",
      "1313/1313 [==============================] - 5s 4ms/step - loss: 0.0238 - accuracy: 0.9912 - val_loss: 0.0635 - val_accuracy: 0.9827\n",
      "Epoch 11/12\n",
      "1313/1313 [==============================] - 5s 4ms/step - loss: 0.0209 - accuracy: 0.9927 - val_loss: 0.0722 - val_accuracy: 0.9804\n",
      "Epoch 12/12\n",
      "1313/1313 [==============================] - 5s 4ms/step - loss: 0.0217 - accuracy: 0.9925 - val_loss: 0.0842 - val_accuracy: 0.9777\n"
     ]
    }
   ],
   "source": [
    "model.compile(optimizer='adam',\n",
    "              loss='sparse_categorical_crossentropy',\n",
    "              metrics=['accuracy'])\n",
    "\n",
    "history = model.fit(train_images, train_labels, epochs=12, validation_split=0.3)\n"
   ]
  },
  {
   "cell_type": "markdown",
   "metadata": {
    "id": "jKgyC5K_4O0d"
   },
   "source": [
    "### Evaluate the model"
   ]
  },
  {
   "cell_type": "code",
   "execution_count": 11,
   "metadata": {
    "colab": {
     "base_uri": "https://localhost:8080/",
     "height": 317
    },
    "execution": {
     "iopub.execute_input": "2021-01-06T02:28:10.462096Z",
     "iopub.status.busy": "2021-01-06T02:28:10.461327Z",
     "iopub.status.idle": "2021-01-06T02:28:11.436199Z",
     "shell.execute_reply": "2021-01-06T02:28:11.435633Z"
    },
    "id": "gtyDF0MKUcM7",
    "outputId": "39f21471-55fb-4ea0-e366-ba21e0d51da1"
   },
   "outputs": [
    {
     "data": {
      "image/png": "[encoded data removed]",
      "text/plain": [
       "<Figure size 864x288 with 2 Axes>"
      ]
     },
     "metadata": {
      "needs_background": "light",
      "tags": []
     },
     "output_type": "display_data"
    },
    {
     "name": "stdout",
     "output_type": "stream",
     "text": [
      "313/313 - 1s - loss: 0.0690 - accuracy: 0.9809\n",
      "0.98089998960495\n"
     ]
    }
   ],
   "source": [
    "plt.figure(figsize=(12, 4))\n",
    "plt.subplot(1, 2, 1)\n",
    "plt.plot(history.history['loss'], 'b-', label='loss')\n",
    "plt.plot(history.history['val_loss'], 'r--', label='val_loss')\n",
    "plt.xlabel('Epoch')\n",
    "plt.ylabel('Loss')\n",
    "plt.legend()\n",
    "\n",
    "plt.subplot(1, 2, 2)\n",
    "plt.plot(history.history['accuracy'], 'g-', label='accuracy')\n",
    "plt.plot(history.history['val_accuracy'], 'k--', label='val_accuracy')\n",
    "plt.xlabel('Epoch')\n",
    "plt.ylabel('Accuracy')\n",
    "plt.ylim(0.7, 1)\n",
    "plt.legend()\n",
    "\n",
    "plt.show()\n",
    "\n",
    "# test\n",
    "test_loss, test_acc = model.evaluate(test_images,  test_labels, verbose=2)\n",
    "\n",
    "print(test_acc)"
   ]
  },
  {
   "cell_type": "code",
   "execution_count": 11,
   "metadata": {
    "execution": {
     "iopub.execute_input": "2021-01-06T02:28:11.440859Z",
     "iopub.status.busy": "2021-01-06T02:28:11.440171Z",
     "iopub.status.idle": "2021-01-06T02:28:11.442412Z",
     "shell.execute_reply": "2021-01-06T02:28:11.442844Z"
    },
    "id": "0LvwaKhtUdOo"
   },
   "outputs": [],
   "source": []
  },
  {
   "cell_type": "code",
   "execution_count": null,
   "metadata": {
    "id": "sMdIHkhswAJY"
   },
   "outputs": [],
   "source": []
  },
  {
   "cell_type": "code",
   "execution_count": 14,
   "metadata": {
    "colab": {
     "base_uri": "https://localhost:8080/"
    },
    "execution": {
     "iopub.execute_input": "2021-01-06T02:26:57.160108Z",
     "iopub.status.busy": "2021-01-06T02:26:57.159440Z",
     "iopub.status.idle": "2021-01-06T02:28:10.322529Z",
     "shell.execute_reply": "2021-01-06T02:28:10.323002Z"
    },
    "id": "5a1KtzUDwBKm",
    "outputId": "3d352abd-a442-4eab-b4fa-6f6d3efaec78"
   },
   "outputs": [
    {
     "name": "stdout",
     "output_type": "stream",
     "text": [
      "Epoch 1/12\n",
      "1313/1313 [==============================] - 6s 4ms/step - loss: 0.0239 - accuracy: 0.9916 - val_loss: 0.0615 - val_accuracy: 0.9834\n",
      "Epoch 2/12\n",
      "1313/1313 [==============================] - 5s 4ms/step - loss: 0.0202 - accuracy: 0.9931 - val_loss: 0.0684 - val_accuracy: 0.9831\n",
      "Epoch 3/12\n",
      "1313/1313 [==============================] - 5s 4ms/step - loss: 0.0196 - accuracy: 0.9934 - val_loss: 0.0599 - val_accuracy: 0.9841\n",
      "Epoch 4/12\n",
      "1313/1313 [==============================] - 5s 4ms/step - loss: 0.0170 - accuracy: 0.9945 - val_loss: 0.0666 - val_accuracy: 0.9836\n",
      "Epoch 5/12\n",
      "1313/1313 [==============================] - 5s 4ms/step - loss: 0.0155 - accuracy: 0.9946 - val_loss: 0.0674 - val_accuracy: 0.9842\n",
      "Epoch 6/12\n",
      "1313/1313 [==============================] - 5s 4ms/step - loss: 0.0151 - accuracy: 0.9948 - val_loss: 0.0618 - val_accuracy: 0.9848\n",
      "Epoch 7/12\n",
      "1313/1313 [==============================] - 5s 4ms/step - loss: 0.0135 - accuracy: 0.9957 - val_loss: 0.0681 - val_accuracy: 0.9844\n",
      "Epoch 8/12\n",
      "1313/1313 [==============================] - 5s 4ms/step - loss: 0.0126 - accuracy: 0.9965 - val_loss: 0.0781 - val_accuracy: 0.9838\n",
      "Epoch 9/12\n",
      "1313/1313 [==============================] - 5s 4ms/step - loss: 0.0125 - accuracy: 0.9956 - val_loss: 0.0706 - val_accuracy: 0.9848\n",
      "Epoch 10/12\n",
      "1313/1313 [==============================] - 5s 4ms/step - loss: 0.0109 - accuracy: 0.9958 - val_loss: 0.0865 - val_accuracy: 0.9824\n",
      "Epoch 11/12\n",
      "1313/1313 [==============================] - 5s 4ms/step - loss: 0.0124 - accuracy: 0.9959 - val_loss: 0.0740 - val_accuracy: 0.9843\n",
      "Epoch 12/12\n",
      "1313/1313 [==============================] - 5s 4ms/step - loss: 0.0123 - accuracy: 0.9961 - val_loss: 0.0784 - val_accuracy: 0.9833\n"
     ]
    }
   ],
   "source": [
    "RMSprop = keras.optimizers.RMSprop(lr=0.001)\n",
    "model.compile(optimizer=RMSprop,\n",
    "              loss='sparse_categorical_crossentropy',\n",
    "              metrics=['accuracy'])\n",
    "\n",
    "history = model.fit(train_images, train_labels, epochs=12, validation_split=0.3)\n"
   ]
  },
  {
   "cell_type": "code",
   "execution_count": 15,
   "metadata": {
    "colab": {
     "base_uri": "https://localhost:8080/",
     "height": 317
    },
    "id": "ZEvz4XoPwCDw",
    "outputId": "da5051c1-5dfc-40aa-8544-7eaec5373e16"
   },
   "outputs": [
    {
     "data": {
      "image/png": "[encoded data removed]",
      "text/plain": [
       "<Figure size 864x288 with 2 Axes>"
      ]
     },
     "metadata": {
      "needs_background": "light",
      "tags": []
     },
     "output_type": "display_data"
    },
    {
     "name": "stdout",
     "output_type": "stream",
     "text": [
      "313/313 - 0s - loss: 0.0583 - accuracy: 0.9855\n",
      "0.9854999780654907\n"
     ]
    }
   ],
   "source": [
    "plt.figure(figsize=(12, 4))\n",
    "plt.subplot(1, 2, 1)\n",
    "plt.plot(history.history['loss'], 'b-', label='loss')\n",
    "plt.plot(history.history['val_loss'], 'r--', label='val_loss')\n",
    "plt.xlabel('Epoch')\n",
    "plt.ylabel('Loss')\n",
    "plt.legend()\n",
    "\n",
    "plt.subplot(1, 2, 2)\n",
    "plt.plot(history.history['accuracy'], 'g-', label='accuracy')\n",
    "plt.plot(history.history['val_accuracy'], 'k--', label='val_accuracy')\n",
    "plt.xlabel('Epoch')\n",
    "plt.ylabel('Accuracy')\n",
    "plt.ylim(0.7, 1)\n",
    "plt.legend()\n",
    "\n",
    "plt.show()\n",
    "\n",
    "# test\n",
    "test_loss, test_acc = model.evaluate(test_images,  test_labels, verbose=2)\n",
    "\n",
    "print(test_acc)"
   ]
  },
  {
   "cell_type": "code",
   "execution_count": null,
   "metadata": {
    "id": "vC_xnSTdwCHW"
   },
   "outputs": [],
   "source": []
  },
  {
   "cell_type": "code",
   "execution_count": null,
   "metadata": {
    "id": "1zy_JoDywCLC"
   },
   "outputs": [],
   "source": []
  },
  {
   "cell_type": "code",
   "execution_count": null,
   "metadata": {
    "id": "pLc6D0XrwCOz"
   },
   "outputs": [],
   "source": []
  },
  {
   "cell_type": "code",
   "execution_count": null,
   "metadata": {
    "id": "zYFcYNZXwCSF"
   },
   "outputs": [],
   "source": []
  },
  {
   "cell_type": "code",
   "execution_count": null,
   "metadata": {
    "id": "h2dIjDwOwCWH"
   },
   "outputs": [],
   "source": []
  },
  {
   "cell_type": "code",
   "execution_count": 12,
   "metadata": {
    "colab": {
     "base_uri": "https://localhost:8080/"
    },
    "execution": {
     "iopub.execute_input": "2021-01-06T02:26:57.160108Z",
     "iopub.status.busy": "2021-01-06T02:26:57.159440Z",
     "iopub.status.idle": "2021-01-06T02:28:10.322529Z",
     "shell.execute_reply": "2021-01-06T02:28:10.323002Z"
    },
    "id": "1qUhmiEOwCue",
    "outputId": "8ef40674-bbad-4941-dfc5-0623464fda1f"
   },
   "outputs": [
    {
     "name": "stdout",
     "output_type": "stream",
     "text": [
      "Epoch 1/12\n",
      "1313/1313 [==============================] - 6s 4ms/step - loss: 0.0626 - accuracy: 0.9807 - val_loss: 0.0752 - val_accuracy: 0.9781\n",
      "Epoch 2/12\n",
      "1313/1313 [==============================] - 5s 4ms/step - loss: 0.0578 - accuracy: 0.9815 - val_loss: 0.0609 - val_accuracy: 0.9818\n",
      "Epoch 3/12\n",
      "1313/1313 [==============================] - 5s 4ms/step - loss: 0.0442 - accuracy: 0.9860 - val_loss: 0.0708 - val_accuracy: 0.9780\n",
      "Epoch 4/12\n",
      "1313/1313 [==============================] - 5s 4ms/step - loss: 0.0435 - accuracy: 0.9854 - val_loss: 0.0628 - val_accuracy: 0.9817\n",
      "Epoch 5/12\n",
      "1313/1313 [==============================] - 5s 4ms/step - loss: 0.0360 - accuracy: 0.9877 - val_loss: 0.0626 - val_accuracy: 0.9814\n",
      "Epoch 6/12\n",
      "1313/1313 [==============================] - 5s 4ms/step - loss: 0.0334 - accuracy: 0.9882 - val_loss: 0.0627 - val_accuracy: 0.9823\n",
      "Epoch 7/12\n",
      "1313/1313 [==============================] - 5s 4ms/step - loss: 0.0309 - accuracy: 0.9894 - val_loss: 0.0643 - val_accuracy: 0.9814\n",
      "Epoch 8/12\n",
      "1313/1313 [==============================] - 5s 4ms/step - loss: 0.0285 - accuracy: 0.9906 - val_loss: 0.0679 - val_accuracy: 0.9807\n",
      "Epoch 9/12\n",
      "1313/1313 [==============================] - 5s 4ms/step - loss: 0.0292 - accuracy: 0.9900 - val_loss: 0.0744 - val_accuracy: 0.9785\n",
      "Epoch 10/12\n",
      "1313/1313 [==============================] - 5s 4ms/step - loss: 0.0297 - accuracy: 0.9903 - val_loss: 0.0612 - val_accuracy: 0.9813\n",
      "Epoch 11/12\n",
      "1313/1313 [==============================] - 5s 4ms/step - loss: 0.0301 - accuracy: 0.9910 - val_loss: 0.0594 - val_accuracy: 0.9822\n",
      "Epoch 12/12\n",
      "1313/1313 [==============================] - 5s 4ms/step - loss: 0.0355 - accuracy: 0.9881 - val_loss: 0.0651 - val_accuracy: 0.9818\n"
     ]
    }
   ],
   "source": [
    "sgd = keras.optimizers.SGD(lr=0.01, decay=1e-6, momentum=0.9,\n",
    "nesterov=False)\n",
    "model.compile(optimizer=sgd,\n",
    "              loss='sparse_categorical_crossentropy',\n",
    "              metrics=['accuracy'])\n",
    "\n",
    "history = model.fit(train_images, train_labels, epochs=12, validation_split=0.3)\n"
   ]
  },
  {
   "cell_type": "code",
   "execution_count": 13,
   "metadata": {
    "colab": {
     "base_uri": "https://localhost:8080/",
     "height": 317
    },
    "id": "e_lc2ZmOwGVF",
    "outputId": "65f0f8ad-551a-4500-8971-dcb5f8686e22"
   },
   "outputs": [
    {
     "data": {
      "image/png": "[encoded data removed]",
      "text/plain": [
       "<Figure size 864x288 with 2 Axes>"
      ]
     },
     "metadata": {
      "needs_background": "light",
      "tags": []
     },
     "output_type": "display_data"
    },
    {
     "name": "stdout",
     "output_type": "stream",
     "text": [
      "313/313 - 1s - loss: 0.0530 - accuracy: 0.9844\n",
      "0.9843999743461609\n"
     ]
    }
   ],
   "source": [
    "plt.figure(figsize=(12, 4))\n",
    "plt.subplot(1, 2, 1)\n",
    "plt.plot(history.history['loss'], 'b-', label='loss')\n",
    "plt.plot(history.history['val_loss'], 'r--', label='val_loss')\n",
    "plt.xlabel('Epoch')\n",
    "plt.ylabel('Loss')\n",
    "plt.legend()\n",
    "\n",
    "plt.subplot(1, 2, 2)\n",
    "plt.plot(history.history['accuracy'], 'g-', label='accuracy')\n",
    "plt.plot(history.history['val_accuracy'], 'k--', label='val_accuracy')\n",
    "plt.xlabel('Epoch')\n",
    "plt.ylabel('Accuracy')\n",
    "plt.ylim(0.7, 1)\n",
    "plt.legend()\n",
    "\n",
    "plt.show()\n",
    "\n",
    "# test\n",
    "test_loss, test_acc = model.evaluate(test_images,  test_labels, verbose=2)\n",
    "\n",
    "print(test_acc)"
   ]
  },
  {
   "cell_type": "markdown",
   "metadata": {
    "id": "8cfJ8AR03gT5"
   },
   "source": [
    "Our simple CNN has achieved a test accuracy of over 98%. Very good for a few lines of code! "
   ]
  }
 ],
 "metadata": {
  "accelerator": "GPU",
  "colab": {
   "collapsed_sections": [],
   "name": "CNN_P2.ipynb",
   "provenance": []
  },
  "kernelspec": {
   "display_name": "Python 3",
   "language": "python",
   "name": "python3"
  },
  "language_info": {
   "codemirror_mode": {
    "name": "ipython",
    "version": 3
   },
   "file_extension": ".py",
   "mimetype": "text/x-python",
   "name": "python",
   "nbconvert_exporter": "python",
   "pygments_lexer": "ipython3",
   "version": "3.7.4"
  }
 },
 "nbformat": 4,
 "nbformat_minor": 1
}
