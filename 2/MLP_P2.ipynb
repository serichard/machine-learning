{
 "cells": [
  {
   "cell_type": "markdown",
   "metadata": {
    "id": "DSPCom-KmApV"
   },
   "source": [
    "# MLP(Multi-layer Perceptron) for MNIST using Keras"
   ]
  },
  {
   "cell_type": "markdown",
   "metadata": {
    "id": "qLGkt5qiyz4E"
   },
   "source": [
    "This program demonstrates training a simple MLP to classify MNIST dataset. The program was created by referring to Keras tutorial(https://keras.io/ko/getting-started/sequential-model-guide/).\n",
    "\n",
    "The procedure for the development of DL application with given dataset \n",
    "consists of the following steps.\n",
    "1. download and prepare the dataset\n",
    "2. create the model\n",
    "4. compile the model\n",
    "5. train (or fit) the model with prepared dataset\n",
    "6. evaluate the performance\n",
    "\n",
    "Before execution the program at Google Colab, check the GPU or TPU at Notebook settings."
   ]
  },
  {
   "cell_type": "markdown",
   "metadata": {
    "id": "m7KBpffWzlxH"
   },
   "source": [
    "### Import TensorFlow"
   ]
  },
  {
   "cell_type": "code",
   "execution_count": 1,
   "metadata": {
    "execution": {
     "iopub.execute_input": "2021-01-06T02:26:25.508587Z",
     "iopub.status.busy": "2021-01-06T02:26:25.507936Z",
     "iopub.status.idle": "2021-01-06T02:26:32.576008Z",
     "shell.execute_reply": "2021-01-06T02:26:32.576483Z"
    },
    "id": "iAve6DCL4JH4"
   },
   "outputs": [
    {
     "ename": "ModuleNotFoundError",
     "evalue": "No module named 'tensorflow'",
     "output_type": "error",
     "traceback": [
      "\u001b[1;31m---------------------------------------------------------------------------\u001b[0m",
      "\u001b[1;31mModuleNotFoundError\u001b[0m                       Traceback (most recent call last)",
      "\u001b[1;32m<ipython-input-1-5d15796e2fa5>\u001b[0m in \u001b[0;36m<module>\u001b[1;34m\u001b[0m\n\u001b[0;32m      1\u001b[0m \u001b[1;31m# import tensorflow and tf.keras\u001b[0m\u001b[1;33m\u001b[0m\u001b[1;33m\u001b[0m\u001b[1;33m\u001b[0m\u001b[0m\n\u001b[1;32m----> 2\u001b[1;33m \u001b[1;32mimport\u001b[0m \u001b[0mtensorflow\u001b[0m \u001b[1;32mas\u001b[0m \u001b[0mtf\u001b[0m\u001b[1;33m\u001b[0m\u001b[1;33m\u001b[0m\u001b[0m\n\u001b[0m\u001b[0;32m      3\u001b[0m \u001b[1;32mfrom\u001b[0m \u001b[0mtensorflow\u001b[0m \u001b[1;32mimport\u001b[0m \u001b[0mkeras\u001b[0m\u001b[1;33m\u001b[0m\u001b[1;33m\u001b[0m\u001b[0m\n\u001b[0;32m      4\u001b[0m \u001b[1;32mfrom\u001b[0m \u001b[0mtensorflow\u001b[0m\u001b[1;33m.\u001b[0m\u001b[0mkeras\u001b[0m \u001b[1;32mimport\u001b[0m \u001b[0mdatasets\u001b[0m\u001b[1;33m,\u001b[0m \u001b[0mlayers\u001b[0m\u001b[1;33m,\u001b[0m \u001b[0mmodels\u001b[0m\u001b[1;33m\u001b[0m\u001b[1;33m\u001b[0m\u001b[0m\n\u001b[0;32m      5\u001b[0m \u001b[1;32mfrom\u001b[0m \u001b[0mkeras\u001b[0m\u001b[1;33m.\u001b[0m\u001b[0mmodels\u001b[0m \u001b[1;32mimport\u001b[0m \u001b[0mSequential\u001b[0m\u001b[1;33m\u001b[0m\u001b[1;33m\u001b[0m\u001b[0m\n",
      "\u001b[1;31mModuleNotFoundError\u001b[0m: No module named 'tensorflow'"
     ]
    }
   ],
   "source": [
    "# import tensorflow and tf.keras\n",
    "import tensorflow as tf\n",
    "from tensorflow import keras\n",
    "from tensorflow.keras import datasets, layers, models\n",
    "from keras.models import Sequential\n",
    "from keras.layers import Dense, Dropout, Flatten\n",
    "import matplotlib.pyplot as plt\n",
    "import numpy as np\n",
    "\n",
    "# tf.test.gpu_device_name()"
   ]
  },
  {
   "cell_type": "markdown",
   "metadata": {
    "id": "aCfytq3blIGT"
   },
   "source": []
  },
  {
   "cell_type": "markdown",
   "metadata": {
    "id": "jRFxccghyMVo"
   },
   "source": [
    "### Download and prepare the MNIST dataset\n",
    "\n",
    "MNIST (Modified National Institute of Standards and Technology database) is a dataset of labeled images of handwritten digits from 0 through 9. The dataset has a training set of 60,000 examples and a test set of 10,000 examples. Each example is a 28x28 grayscale image, associated with a label from 10 classes."
   ]
  },
  {
   "cell_type": "code",
   "execution_count": 2,
   "metadata": {
    "colab": {
     "base_uri": "https://localhost:8080/"
    },
    "execution": {
     "iopub.execute_input": "2021-01-06T02:26:32.583079Z",
     "iopub.status.busy": "2021-01-06T02:26:32.582385Z",
     "iopub.status.idle": "2021-01-06T02:26:46.965320Z",
     "shell.execute_reply": "2021-01-06T02:26:46.964658Z"
    },
    "id": "JWoEqyMuXFF4",
    "outputId": "b1ae3a30-fe0b-4070-f7ba-e2bc9d8f4138"
   },
   "outputs": [
    {
     "name": "stdout",
     "output_type": "stream",
     "text": [
      "Downloading data from https://storage.googleapis.com/tensorflow/tf-keras-datasets/mnist.npz\n",
      "11493376/11490434 [==============================] - 0s 0us/step\n",
      "(60000, 28, 28) (10000, 28, 28)\n"
     ]
    }
   ],
   "source": [
    "# load mnist dataset\n",
    "(train_images, train_labels), (test_images, test_labels) = datasets.fashion_mnist.load_data()\n",
    "# check shapes of images and labels of train and test data\n",
    "print(train_images.shape, test_images.shape)  "
   ]
  },
  {
   "cell_type": "markdown",
   "metadata": {
    "id": "7wArwCTJJlUa"
   },
   "source": [
    "### Verify the data\n",
    "\n",
    "To verify that the dataset looks correct, let's plot the first 16 images from the training set and display the class name below each image.\n"
   ]
  },
  {
   "cell_type": "code",
   "execution_count": 3,
   "metadata": {
    "colab": {
     "base_uri": "https://localhost:8080/",
     "height": 589
    },
    "execution": {
     "iopub.execute_input": "2021-01-06T02:26:46.990084Z",
     "iopub.status.busy": "2021-01-06T02:26:46.988560Z",
     "iopub.status.idle": "2021-01-06T02:26:48.222390Z",
     "shell.execute_reply": "2021-01-06T02:26:48.222901Z"
    },
    "id": "K3PAELE2eSU9",
    "outputId": "d2c55bce-4a20-4da6-b397-d3b7b522be54"
   },
   "outputs": [
    {
     "data": {
      "image/png": "[encoded data removed]",
      "text/plain": [
       "<Figure size 720x720 with 16 Axes>"
      ]
     },
     "metadata": {
      "tags": []
     },
     "output_type": "display_data"
    }
   ],
   "source": [
    "# define class names\n",
    "class_names = ['0', '1', '2', '3', '4',\n",
    "               '5', '6', '7', '8', '9']\n",
    "\n",
    "plt.figure(figsize=(10, 10))\n",
    "for i in range(16):\n",
    "     plt.subplot(4, 4, i+1)\n",
    "     plt.xticks([])\n",
    "     plt.yticks([])\n",
    "     plt.grid(False)\n",
    "     plt.imshow(train_images[i].reshape(28, 28), cmap='gray')\n",
    "     # plt.imshow(train_images[i], cmap=plt.cm.binary)\n",
    "     plt.xlabel(class_names[train_labels[i]])\n",
    "plt.show()"
   ]
  },
  {
   "cell_type": "markdown",
   "metadata": {
    "id": "8Awoof1BKQs2"
   },
   "source": [
    "### Prepare Dataset for MLP"
   ]
  },
  {
   "cell_type": "code",
   "execution_count": 4,
   "metadata": {
    "colab": {
     "base_uri": "https://localhost:8080/"
    },
    "id": "NUpR67UGxDA1",
    "outputId": "65e7d39f-6a1e-40c3-cb8d-52797f3df174"
   },
   "outputs": [
    {
     "name": "stdout",
     "output_type": "stream",
     "text": [
      "(60000, 784) (10000, 784)\n",
      "(60000, 10) (10000, 10)\n"
     ]
    }
   ],
   "source": [
    "# prepare minist dataset for MLP\n",
    "train_images = train_images.reshape((60000, 28*28))\n",
    "test_images = test_images.reshape((10000, 28*28))\n",
    "# check shapes of images of train and test data\n",
    "print(train_images.shape, test_images.shape)\n",
    "\n",
    "# normalizes pixel values between 0 and 1 for train and test data\n",
    "train_images, test_images = train_images/255.0, test_images/255.0\n",
    "\n",
    "# Convert labels to categorical one-hot encoding\n",
    "train_labels = keras.utils.to_categorical(train_labels, num_classes=10)\n",
    "test_labels = keras.utils.to_categorical(test_labels, num_classes=10)\n",
    "# check shapes of labels of train and test data\n",
    "print(train_labels.shape, test_labels.shape)\n",
    "# print(train_labels[1])"
   ]
  },
  {
   "cell_type": "markdown",
   "metadata": {
    "id": "Oewp-wYg31t9"
   },
   "source": [
    "### Create model for MLP\n",
    "First, you will have 784 inputs from an image of size (28x28), flatterning the 2D image to 1D,  then add one or more Dense layers. MNIST has 10 output classes, so you use a final Dense layer with 10 outputs."
   ]
  },
  {
   "cell_type": "code",
   "execution_count": 21,
   "metadata": {
    "execution": {
     "iopub.execute_input": "2021-01-06T02:26:48.234302Z",
     "iopub.status.busy": "2021-01-06T02:26:48.229148Z",
     "iopub.status.idle": "2021-01-06T02:26:57.095770Z",
     "shell.execute_reply": "2021-01-06T02:26:57.095008Z"
    },
    "id": "L9YmGQBQPrdn"
   },
   "outputs": [],
   "source": [
    "model = Sequential()\n",
    "model.add(Dense(512, batch_input_shape=(None, 784), activation='relu'))\n",
    "model.add(Dropout(0.3))\n",
    "model.add(Dense(32, activation='relu'))\n",
    "model.add(Dropout(0.3))\n",
    "model.add(Dense(10, activation='softmax'))\n"
   ]
  },
  {
   "cell_type": "markdown",
   "metadata": {
    "id": "lvDVFkg-2DPm"
   },
   "source": [
    "Here's the complete architecture of our model."
   ]
  },
  {
   "cell_type": "code",
   "execution_count": 22,
   "metadata": {
    "colab": {
     "base_uri": "https://localhost:8080/"
    },
    "execution": {
     "iopub.execute_input": "2021-01-06T02:26:57.104997Z",
     "iopub.status.busy": "2021-01-06T02:26:57.104279Z",
     "iopub.status.idle": "2021-01-06T02:26:57.108316Z",
     "shell.execute_reply": "2021-01-06T02:26:57.107725Z"
    },
    "id": "8-C4XBg4UTJy",
    "outputId": "173c9473-fb62-48e4-b781-128269d2b02b"
   },
   "outputs": [
    {
     "name": "stdout",
     "output_type": "stream",
     "text": [
      "Model: \"sequential_3\"\n",
      "_________________________________________________________________\n",
      "Layer (type)                 Output Shape              Param #   \n",
      "=================================================================\n",
      "dense_9 (Dense)              (None, 512)               401920    \n",
      "_________________________________________________________________\n",
      "dropout_6 (Dropout)          (None, 512)               0         \n",
      "_________________________________________________________________\n",
      "dense_10 (Dense)             (None, 64)                32832     \n",
      "_________________________________________________________________\n",
      "dropout_7 (Dropout)          (None, 64)                0         \n",
      "_________________________________________________________________\n",
      "dense_11 (Dense)             (None, 10)                650       \n",
      "=================================================================\n",
      "Total params: 435,402\n",
      "Trainable params: 435,402\n",
      "Non-trainable params: 0\n",
      "_________________________________________________________________\n"
     ]
    }
   ],
   "source": [
    "model.summary()"
   ]
  },
  {
   "cell_type": "markdown",
   "metadata": {
    "id": "P3odqfHP4M67"
   },
   "source": [
    "### Compile and train the model"
   ]
  },
  {
   "cell_type": "code",
   "execution_count": 45,
   "metadata": {
    "colab": {
     "base_uri": "https://localhost:8080/"
    },
    "execution": {
     "iopub.execute_input": "2021-01-06T02:26:57.160108Z",
     "iopub.status.busy": "2021-01-06T02:26:57.159440Z",
     "iopub.status.idle": "2021-01-06T02:28:10.322529Z",
     "shell.execute_reply": "2021-01-06T02:28:10.323002Z"
    },
    "id": "MdDzI75PUXrG",
    "outputId": "0492f252-23c7-4256-b16c-c8a3f01b5e60"
   },
   "outputs": [
    {
     "name": "stdout",
     "output_type": "stream",
     "text": [
      "Epoch 1/9\n",
      "235/235 - 1s - loss: 0.0410 - accuracy: 0.9874 - val_loss: 0.0593 - val_accuracy: 0.9837\n",
      "Epoch 2/9\n",
      "235/235 - 1s - loss: 0.0418 - accuracy: 0.9874 - val_loss: 0.0616 - val_accuracy: 0.9840\n",
      "Epoch 3/9\n",
      "235/235 - 1s - loss: 0.0410 - accuracy: 0.9873 - val_loss: 0.0599 - val_accuracy: 0.9833\n",
      "Epoch 4/9\n",
      "235/235 - 1s - loss: 0.0397 - accuracy: 0.9878 - val_loss: 0.0613 - val_accuracy: 0.9838\n",
      "Epoch 5/9\n",
      "235/235 - 1s - loss: 0.0404 - accuracy: 0.9880 - val_loss: 0.0597 - val_accuracy: 0.9827\n",
      "Epoch 6/9\n",
      "235/235 - 1s - loss: 0.0387 - accuracy: 0.9881 - val_loss: 0.0605 - val_accuracy: 0.9838\n",
      "Epoch 7/9\n",
      "235/235 - 1s - loss: 0.0383 - accuracy: 0.9886 - val_loss: 0.0610 - val_accuracy: 0.9833\n",
      "Epoch 8/9\n",
      "235/235 - 1s - loss: 0.0388 - accuracy: 0.9882 - val_loss: 0.0597 - val_accuracy: 0.9830\n",
      "Epoch 9/9\n",
      "235/235 - 1s - loss: 0.0378 - accuracy: 0.9887 - val_loss: 0.0633 - val_accuracy: 0.9823\n"
     ]
    }
   ],
   "source": [
    "sgd = keras.optimizers.SGD(lr=0.01, decay=1e-6, momentum=0.9, nesterov=False)\n",
    "bsize = 256\n",
    "model.compile(loss='categorical_crossentropy',\n",
    "              optimizer= sgd,\n",
    "              metrics=['accuracy'])\n",
    "\n",
    "#history = model.fit(train_images, train_labels, epochs=10, batch_size=bsize)\n",
    "history = model.fit(train_images, train_labels, epochs=9, verbose=2 ,  batch_size=bsize,\n",
    "                    validation_data=(test_images, test_labels))\n"
   ]
  },
  {
   "cell_type": "markdown",
   "metadata": {
    "id": "jKgyC5K_4O0d"
   },
   "source": [
    "### Evaluate the model"
   ]
  },
  {
   "cell_type": "code",
   "execution_count": 48,
   "metadata": {
    "colab": {
     "base_uri": "https://localhost:8080/",
     "height": 317
    },
    "execution": {
     "iopub.execute_input": "2021-01-06T02:28:10.462096Z",
     "iopub.status.busy": "2021-01-06T02:28:10.461327Z",
     "iopub.status.idle": "2021-01-06T02:28:11.436199Z",
     "shell.execute_reply": "2021-01-06T02:28:11.435633Z"
    },
    "id": "gtyDF0MKUcM7",
    "outputId": "405402b2-4685-47da-c311-0be8a59cb955"
   },
   "outputs": [
    {
     "data": {
      "image/png": "[encoded data removed]",
      "text/plain": [
       "<Figure size 864x288 with 2 Axes>"
      ]
     },
     "metadata": {
      "needs_background": "light",
      "tags": []
     },
     "output_type": "display_data"
    },
    {
     "name": "stdout",
     "output_type": "stream",
     "text": [
      "40/40 - 0s - loss: 0.0633 - accuracy: 0.9823\n",
      "0.9822999835014343\n"
     ]
    }
   ],
   "source": [
    "plt.figure(figsize=(12, 4))\n",
    "plt.subplot(1, 2, 1)\n",
    "plt.plot(history.history['loss'], 'b-', label='loss')\n",
    "plt.xlabel('Epoch')\n",
    "plt.ylabel('Loss')\n",
    "plt.legend()\n",
    "\n",
    "plt.subplot(1, 2, 2)\n",
    "plt.plot(history.history['accuracy'], 'g-', label='accuracy')\n",
    "plt.xlabel('Epoch')\n",
    "plt.ylabel('Accuracy')\n",
    "plt.ylim(0.1, 1)\n",
    "plt.legend()\n",
    "\n",
    "plt.show()\n",
    "\n",
    "# test\n",
    "test_loss, test_acc = model.evaluate(test_images,  test_labels, batch_size=bsize, verbose=2)\n",
    "\n",
    "print(test_acc)"
   ]
  },
  {
   "cell_type": "code",
   "execution_count": 47,
   "metadata": {
    "colab": {
     "base_uri": "https://localhost:8080/"
    },
    "execution": {
     "iopub.execute_input": "2021-01-06T02:28:11.440859Z",
     "iopub.status.busy": "2021-01-06T02:28:11.440171Z",
     "iopub.status.idle": "2021-01-06T02:28:11.442412Z",
     "shell.execute_reply": "2021-01-06T02:28:11.442844Z"
    },
    "id": "0LvwaKhtUdOo",
    "outputId": "06ba5c4f-9e9d-4b11-b9ae-70ce777b9859"
   },
   "outputs": [
    {
     "name": "stdout",
     "output_type": "stream",
     "text": [
      "0.9822999835014343\n"
     ]
    }
   ],
   "source": []
  },
  {
   "cell_type": "markdown",
   "metadata": {
    "id": "8cfJ8AR03gT5"
   },
   "source": [
    "Our simple MLP has achieved a test accuracy of over 94% with Adam. Very good for a few lines of code! "
   ]
  },
  {
   "cell_type": "code",
   "execution_count": null,
   "metadata": {
    "id": "jRTznbO9tZ1P"
   },
   "outputs": [],
   "source": []
  },
  {
   "cell_type": "code",
   "execution_count": 49,
   "metadata": {
    "colab": {
     "base_uri": "https://localhost:8080/"
    },
    "execution": {
     "iopub.execute_input": "2021-01-06T02:26:57.160108Z",
     "iopub.status.busy": "2021-01-06T02:26:57.159440Z",
     "iopub.status.idle": "2021-01-06T02:28:10.322529Z",
     "shell.execute_reply": "2021-01-06T02:28:10.323002Z"
    },
    "id": "bKWQL-Drtafc",
    "outputId": "4466b646-bf66-4137-c3bd-c97ef72dccf0"
   },
   "outputs": [
    {
     "name": "stdout",
     "output_type": "stream",
     "text": [
      "Epoch 1/9\n",
      "235/235 - 1s - loss: 0.0804 - accuracy: 0.9760 - val_loss: 0.0709 - val_accuracy: 0.9810\n",
      "Epoch 2/9\n",
      "235/235 - 1s - loss: 0.0794 - accuracy: 0.9766 - val_loss: 0.0722 - val_accuracy: 0.9810\n",
      "Epoch 3/9\n",
      "235/235 - 1s - loss: 0.0783 - accuracy: 0.9766 - val_loss: 0.0690 - val_accuracy: 0.9801\n",
      "Epoch 4/9\n",
      "235/235 - 1s - loss: 0.0737 - accuracy: 0.9784 - val_loss: 0.0697 - val_accuracy: 0.9805\n",
      "Epoch 5/9\n",
      "235/235 - 1s - loss: 0.0713 - accuracy: 0.9791 - val_loss: 0.0652 - val_accuracy: 0.9822\n",
      "Epoch 6/9\n",
      "235/235 - 1s - loss: 0.0680 - accuracy: 0.9792 - val_loss: 0.0714 - val_accuracy: 0.9817\n",
      "Epoch 7/9\n",
      "235/235 - 1s - loss: 0.0637 - accuracy: 0.9809 - val_loss: 0.0663 - val_accuracy: 0.9830\n",
      "Epoch 8/9\n",
      "235/235 - 1s - loss: 0.0641 - accuracy: 0.9810 - val_loss: 0.0668 - val_accuracy: 0.9825\n",
      "Epoch 9/9\n",
      "235/235 - 1s - loss: 0.0620 - accuracy: 0.9808 - val_loss: 0.0700 - val_accuracy: 0.9818\n"
     ]
    }
   ],
   "source": [
    "adam = keras.optimizers.Adam(lr=0.001)\n",
    "bsize = 256\n",
    "model.compile(loss='categorical_crossentropy',\n",
    "              optimizer= adam,\n",
    "              metrics=['accuracy'])\n",
    "\n",
    "#history = model.fit(train_images, train_labels, epochs=10, batch_size=bsize)\n",
    "history = model.fit(train_images, train_labels, epochs=9, verbose=2 ,  batch_size=bsize,\n",
    "                    validation_data=(test_images, test_labels))\n"
   ]
  },
  {
   "cell_type": "code",
   "execution_count": null,
   "metadata": {
    "id": "jMI7OXE-tcPe"
   },
   "outputs": [],
   "source": []
  },
  {
   "cell_type": "code",
   "execution_count": 50,
   "metadata": {
    "colab": {
     "base_uri": "https://localhost:8080/",
     "height": 317
    },
    "execution": {
     "iopub.execute_input": "2021-01-06T02:28:10.462096Z",
     "iopub.status.busy": "2021-01-06T02:28:10.461327Z",
     "iopub.status.idle": "2021-01-06T02:28:11.436199Z",
     "shell.execute_reply": "2021-01-06T02:28:11.435633Z"
    },
    "id": "aeqLxuAQtlei",
    "outputId": "c83da2c3-95fb-44ee-dd3b-d259a71096f3"
   },
   "outputs": [
    {
     "data": {
      "image/png": "[encoded data removed]",
      "text/plain": [
       "<Figure size 864x288 with 2 Axes>"
      ]
     },
     "metadata": {
      "needs_background": "light",
      "tags": []
     },
     "output_type": "display_data"
    },
    {
     "name": "stdout",
     "output_type": "stream",
     "text": [
      "40/40 - 0s - loss: 0.0700 - accuracy: 0.9818\n",
      "0.9818000197410583\n"
     ]
    }
   ],
   "source": [
    "plt.figure(figsize=(12, 4))\n",
    "plt.subplot(1, 2, 1)\n",
    "plt.plot(history.history['loss'], 'b-', label='loss')\n",
    "plt.xlabel('Epoch')\n",
    "plt.ylabel('Loss')\n",
    "plt.legend()\n",
    "\n",
    "plt.subplot(1, 2, 2)\n",
    "plt.plot(history.history['accuracy'], 'g-', label='accuracy')\n",
    "plt.xlabel('Epoch')\n",
    "plt.ylabel('Accuracy')\n",
    "plt.ylim(0.1, 1)\n",
    "plt.legend()\n",
    "\n",
    "plt.show()\n",
    "\n",
    "# test\n",
    "test_loss, test_acc = model.evaluate(test_images,  test_labels, batch_size=bsize, verbose=2)\n",
    "\n",
    "print(test_acc)"
   ]
  },
  {
   "cell_type": "code",
   "execution_count": null,
   "metadata": {
    "id": "HhRGWS21tcTT"
   },
   "outputs": [],
   "source": []
  },
  {
   "cell_type": "code",
   "execution_count": 52,
   "metadata": {
    "colab": {
     "base_uri": "https://localhost:8080/"
    },
    "execution": {
     "iopub.execute_input": "2021-01-06T02:26:57.160108Z",
     "iopub.status.busy": "2021-01-06T02:26:57.159440Z",
     "iopub.status.idle": "2021-01-06T02:28:10.322529Z",
     "shell.execute_reply": "2021-01-06T02:28:10.323002Z"
    },
    "id": "lzckkFIktoRJ",
    "outputId": "853863d3-9c02-48d3-d1ce-fb9f119d80e7"
   },
   "outputs": [
    {
     "name": "stdout",
     "output_type": "stream",
     "text": [
      "Epoch 1/9\n",
      "235/235 - 1s - loss: 0.0504 - accuracy: 0.9853 - val_loss: 0.0871 - val_accuracy: 0.9809\n",
      "Epoch 2/9\n",
      "235/235 - 1s - loss: 0.0530 - accuracy: 0.9850 - val_loss: 0.0727 - val_accuracy: 0.9835\n",
      "Epoch 3/9\n",
      "235/235 - 1s - loss: 0.0531 - accuracy: 0.9851 - val_loss: 0.0851 - val_accuracy: 0.9826\n",
      "Epoch 4/9\n",
      "235/235 - 1s - loss: 0.0501 - accuracy: 0.9859 - val_loss: 0.0890 - val_accuracy: 0.9835\n",
      "Epoch 5/9\n",
      "235/235 - 1s - loss: 0.0521 - accuracy: 0.9850 - val_loss: 0.0838 - val_accuracy: 0.9830\n",
      "Epoch 6/9\n",
      "235/235 - 1s - loss: 0.0517 - accuracy: 0.9856 - val_loss: 0.0862 - val_accuracy: 0.9835\n",
      "Epoch 7/9\n",
      "235/235 - 1s - loss: 0.0484 - accuracy: 0.9868 - val_loss: 0.0921 - val_accuracy: 0.9836\n",
      "Epoch 8/9\n",
      "235/235 - 1s - loss: 0.0486 - accuracy: 0.9863 - val_loss: 0.0970 - val_accuracy: 0.9840\n",
      "Epoch 9/9\n",
      "235/235 - 1s - loss: 0.0486 - accuracy: 0.9876 - val_loss: 0.0946 - val_accuracy: 0.9832\n"
     ]
    }
   ],
   "source": [
    "RMSprop = keras.optimizers.RMSprop(lr=0.001)\n",
    "bsize = 256\n",
    "model.compile(loss='categorical_crossentropy',\n",
    "              optimizer= RMSprop,\n",
    "              metrics=['accuracy'])\n",
    "\n",
    "#history = model.fit(train_images, train_labels, epochs=10, batch_size=bsize)\n",
    "history = model.fit(train_images, train_labels, epochs=9, verbose=2 ,  batch_size=bsize,\n",
    "                    validation_data=(test_images, test_labels))\n"
   ]
  },
  {
   "cell_type": "code",
   "execution_count": 53,
   "metadata": {
    "colab": {
     "base_uri": "https://localhost:8080/",
     "height": 317
    },
    "id": "2eryblv4tcW-",
    "outputId": "440d6137-2233-4f6a-8707-a0f82c80a4d8"
   },
   "outputs": [
    {
     "data": {
      "image/png": "[encoded data removed]",
      "text/plain": [
       "<Figure size 864x288 with 2 Axes>"
      ]
     },
     "metadata": {
      "needs_background": "light",
      "tags": []
     },
     "output_type": "display_data"
    },
    {
     "name": "stdout",
     "output_type": "stream",
     "text": [
      "40/40 - 0s - loss: 0.0946 - accuracy: 0.9832\n",
      "0.9832000136375427\n"
     ]
    }
   ],
   "source": [
    "plt.figure(figsize=(12, 4))\n",
    "plt.subplot(1, 2, 1)\n",
    "plt.plot(history.history['loss'], 'b-', label='loss')\n",
    "plt.xlabel('Epoch')\n",
    "plt.ylabel('Loss')\n",
    "plt.legend()\n",
    "\n",
    "plt.subplot(1, 2, 2)\n",
    "plt.plot(history.history['accuracy'], 'g-', label='accuracy')\n",
    "plt.xlabel('Epoch')\n",
    "plt.ylabel('Accuracy')\n",
    "plt.ylim(0.1, 1)\n",
    "plt.legend()\n",
    "\n",
    "plt.show()\n",
    "\n",
    "# test\n",
    "test_loss, test_acc = model.evaluate(test_images,  test_labels, batch_size=bsize, verbose=2)\n",
    "\n",
    "print(test_acc)"
   ]
  },
  {
   "cell_type": "code",
   "execution_count": null,
   "metadata": {
    "id": "IbBGqAVRtcaw"
   },
   "outputs": [],
   "source": []
  },
  {
   "cell_type": "code",
   "execution_count": null,
   "metadata": {
    "id": "eQvIkrnUtceE"
   },
   "outputs": [],
   "source": []
  },
  {
   "cell_type": "code",
   "execution_count": null,
   "metadata": {
    "id": "yV9i1nyZtchi"
   },
   "outputs": [],
   "source": []
  },
  {
   "cell_type": "code",
   "execution_count": null,
   "metadata": {
    "id": "pCUb8ycqtcl1"
   },
   "outputs": [],
   "source": []
  },
  {
   "cell_type": "code",
   "execution_count": null,
   "metadata": {
    "id": "XsZg5TF2tcpY"
   },
   "outputs": [],
   "source": []
  },
  {
   "cell_type": "code",
   "execution_count": null,
   "metadata": {
    "id": "OLqxp5_ntct1"
   },
   "outputs": [],
   "source": []
  }
 ],
 "metadata": {
  "accelerator": "GPU",
  "colab": {
   "collapsed_sections": [],
   "name": "MLP_P2.ipynb",
   "provenance": []
  },
  "kernelspec": {
   "display_name": "Python 3",
   "language": "python",
   "name": "python3"
  },
  "language_info": {
   "codemirror_mode": {
    "name": "ipython",
    "version": 3
   },
   "file_extension": ".py",
   "mimetype": "text/x-python",
   "name": "python",
   "nbconvert_exporter": "python",
   "pygments_lexer": "ipython3",
   "version": "3.7.4"
  }
 },
 "nbformat": 4,
 "nbformat_minor": 1
}
