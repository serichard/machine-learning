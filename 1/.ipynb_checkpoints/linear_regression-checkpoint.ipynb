{
 "cells": [
  {
   "cell_type": "markdown",
   "metadata": {
    "id": "r2hbvbTNLjGj"
   },
   "source": [
    "# Linear Regression\n",
    "+ Simple linear regression with SGD optimization.\n",
    "+ Predict house price with information on number of rooms and age.\n",
    "+ Data: 7 year old house with 3 bedrooms costs 50 thousand dollars, 5 year old house with 5 bedrooms costs 100 thousand dollars.\n",
    "+ Problem: How much would 5 year old house with 4 bedrooms be ?\n",
    "\n"
   ]
  },
  {
   "cell_type": "markdown",
   "metadata": {
    "id": "FnNgjx7GNt37"
   },
   "source": []
  },
  {
   "cell_type": "code",
   "execution_count": 1,
   "metadata": {
    "id": "F6hGi4R2LjGp"
   },
   "outputs": [],
   "source": [
    "import numpy as np\n",
    "import random\n",
    "\n",
    "eta = 0.5    # learning rate\n",
    "epoch = 1000 # iteration"
   ]
  },
  {
   "cell_type": "markdown",
   "metadata": {
    "id": "7XH50w1dLjGq"
   },
   "source": [
    "### Neural Network Model for Linear Regression\n",
    "+ Single layer neural network with linear activation function.\n",
    "+ In forward processing, it uses MSE (mean square error) loss function.\n",
    "+ In backward processing, delta = output - target. \n",
    "+ Backward processing is called \"backprop\"."
   ]
  },
  {
   "cell_type": "code",
   "execution_count": 2,
   "metadata": {
    "id": "JhxbFe39LjGr"
   },
   "outputs": [],
   "source": [
    "# Linear Regression Model\n",
    "class LinearRegression:\n",
    "    \n",
    "    def __init__(self, x, w, y):\n",
    "        self.inputs  = x\n",
    "        self.weights = w               \n",
    "        self.target  = y\n",
    "        self.output  = np.zeros(self.target.shape)\n",
    "\n",
    "    def forward_proc(self):\n",
    "        # forward processing of inputs and weights\n",
    "        self.output = np.dot(self.weights, self.inputs.T)\n",
    "\n",
    "    def backprop(self):\n",
    "        # backward processing of appling the chain rule to find derivative of the mean square error function with respect to weights\n",
    "        dw = (self.output - self.target) * self.inputs\n",
    "\n",
    "        # update the weights with the derivative of the loss function\n",
    "        self.weights -= eta * dw\n",
    "\n",
    "    def predict(self, x):\n",
    "        # predict the output for a given input x\n",
    "        return (np.dot(self.weights, x.T))\n",
    "        \n",
    "    def calculate_error(self):\n",
    "        # calculate error\n",
    "        error = self.target - self.output\n",
    "        return abs(error)"
   ]
  },
  {
   "cell_type": "markdown",
   "metadata": {
    "id": "ndhVGNuGNrYO"
   },
   "source": []
  },
  {
   "cell_type": "markdown",
   "metadata": {
    "id": "WmDNen6SLjGr"
   },
   "source": [
    "### SGD (Stochastic Gradient Descent) Optimization\n",
    "+ Train the neural net with SGD optimization.\n",
    "+ In SGD, each input data is trained separately with other input data.\n",
    "+ After training, the weights of the neural network are adjusted to generate the target data for the given input data.\n",
    "+ Check how the loss decreases as the iterations increases."
   ]
  },
  {
   "cell_type": "code",
   "execution_count": 3,
   "metadata": {
    "colab": {
     "base_uri": "https://localhost:8080/"
    },
    "id": "JdlapqG9LjGs",
    "outputId": "3cd2dfe6-9514-4d8b-d307-c1b88679b667"
   },
   "outputs": [
    {
     "name": "stdout",
     "output_type": "stream",
     "text": [
      "Initial Weights: [[0.63180712 0.16692492]]\n",
      "Loss:  [87.17723137]\n",
      "Loss:  [11.20746713]\n",
      "Loss:  [3.74429155]\n",
      "Loss:  [1.38427951]\n",
      "Loss:  [0.4423125]\n",
      "Loss:  [0.13952025]\n",
      "Loss:  [0.05322331]\n",
      "Loss:  [0.01743902]\n",
      "Loss:  [0.00554327]\n",
      "Loss:  [0.00200161]\n",
      "Loss:  [0.00067175]\n",
      "Loss:  [0.00022685]\n",
      "Loss:  [7.34120763e-05]\n",
      "Loss:  [2.53690264e-05]\n",
      "Loss:  [7.60971463e-06]\n",
      "Loss:  [2.51787034e-06]\n",
      "Loss:  [9.41726555e-07]\n",
      "Loss:  [3.05218386e-07]\n",
      "Loss:  [1.01948586e-07]\n",
      "Loss:  [3.64937449e-08]\n",
      "Output: [50.00000001]\n",
      "Adjusted Weights: [[224.99999994 -24.99999996]]\n",
      "Price for 4 beds and 6 years old is predictd as: [[75.]]\n"
     ]
    }
   ],
   "source": [
    "# Training \n",
    "\n",
    "if __name__ == \"__main__\":\n",
    "\n",
    "    # data normalization on number of rooms and age of the house\n",
    "    input_data = np.array(\n",
    "                  [[.3, .7, 50],\n",
    "                   [.5, .5, 100]])\n",
    "    weights = np.random.rand(1, 2)\n",
    "    print(\"Initial Weights:\", weights)\n",
    "\n",
    "    # SGD Optimization\n",
    "    for i in range(epoch):\n",
    "   \n",
    "        if i == 0: w = weights       \n",
    "\n",
    "        np.random.shuffle(input_data) # shuffle the input data\n",
    "        X = input_data[:, 0:2]\n",
    "        y = input_data[:, 2:3]\n",
    "\n",
    "        for j in range(len(input_data)):\n",
    "         \n",
    "            model = LinearRegression(X[j], w, y[j])\n",
    "            model.forward_proc()   # forward processing\n",
    "            model.backprop()       # backward processing\n",
    "            w = model.weights \n",
    "\n",
    "        if (i % 50) == 0:\n",
    "             print(\"Loss: \", model.calculate_error())\n",
    "        \n",
    "    print(\"Output:\", model.output)\n",
    "    print(\"Adjusted Weights:\", model.weights)\n",
    "\n",
    "    # Prediction\n",
    "    new_data = np.array([[.4, .6]])\n",
    "    print(\"Price for 4 beds and 6 years old is predictd as:\", model.predict(new_data))\n",
    "  "
   ]
  },
  {
   "cell_type": "markdown",
   "metadata": {
    "id": "grwJciLULjGt"
   },
   "source": [
    "### Testing and Prediction \n",
    "+ After training, you can verify that the required target is generated for a given input data.\n",
    "+ During testing phase, new input data is feeded to check the output.\n",
    "+ With new input data, the output is predicted. "
   ]
  },
  {
   "cell_type": "code",
   "execution_count": null,
   "metadata": {
    "colab": {
     "base_uri": "https://localhost:8080/"
    },
    "id": "5WjQ5I7cLjGt",
    "outputId": "b20c7119-b662-426c-8f65-108b6f552c17"
   },
   "outputs": [],
   "source": [
    "    # verify the output with the adjusted weights\n",
    "    x1 = np.array([[0.3, 0.7]])\n",
    "    print (\"Output for the input data [.3, 0.7]:\", nn.predict(x1))\n",
    "    x2 = np.array([[0.5, 0.5]])\n",
    "    print (\"Output for the input data [.5, 0.5]:\", nn.predict(x2))\n",
    "    \n",
    "    # predicting and testing the output for a given input data\n",
    "    x_prediction = np.array([[0.4, 0.6]])\n",
    "    predicted_output = nn.predict(x_prediction)\n",
    "    print(\"Predicted data based on trained weights: \")\n",
    "    print(\"Input (scaled): \", x_prediction)\n",
    "    print(\"Output: \", predicted_output)"
   ]
  },
  {
   "cell_type": "code",
   "execution_count": 6,
   "metadata": {
    "id": "Lp5wgh5CLjGu"
   },
   "outputs": [],
   "source": []
  }
 ],
 "metadata": {
  "colab": {
   "history_visible": true,
   "name": "linear regression (1).ipynb",
   "provenance": []
  },
  "kernelspec": {
   "display_name": "Python 3",
   "language": "python",
   "name": "python3"
  },
  "language_info": {
   "codemirror_mode": {
    "name": "ipython",
    "version": 3
   },
   "file_extension": ".py",
   "mimetype": "text/x-python",
   "name": "python",
   "nbconvert_exporter": "python",
   "pygments_lexer": "ipython3",
   "version": "3.7.4"
  }
 },
 "nbformat": 4,
 "nbformat_minor": 1
}
